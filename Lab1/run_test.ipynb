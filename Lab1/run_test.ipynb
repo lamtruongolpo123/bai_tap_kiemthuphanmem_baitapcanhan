
# Biên dịch code C++ thành chương trình thực thi
!g++ test_solver.cpp -o solver

# Chạy chương trình kiểm thử
!./solver
